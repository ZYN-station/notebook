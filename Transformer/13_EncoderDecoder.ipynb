{
 "cells": [
  {
   "cell_type": "code",
   "execution_count": null,
   "id": "initial_id",
   "metadata": {
    "collapsed": true
   },
   "outputs": [],
   "source": [
    "\"\"\"编码器-解码器结构实现\"\"\"\n",
    "import torch\n",
    "import torch.nn as nn\n",
    "import torch.nn.functional as F\n",
    "\n",
    "class EncoderDecoder(nn.Module):\n",
    "    def __init__(self,encoder,decoder,source_embed,target_embed,generator):\n",
    "        super(EncoderDecoder,self).__init__()\n",
    "        #source_embed源数据嵌入函数, target_embed目标数据嵌入函数\n",
    "        self.encoder = encoder\n",
    "        self.decoder = decoder\n",
    "        self.src_embed = source_embed\n",
    "        self.tgt_embed = target_embed\n",
    "        self.generator = generator\n",
    "    def forward(self,source,target,source_mask,target_mask):\n",
    "        return self.decode(self.encode(source,source_mask),source_mask,target,target_mask)\n",
    "    def encode(self,source,source_mask):\n",
    "        return self.encoder(self.src_embed(source),source_mask)\n",
    "    def decode(self,memory,source_mask,target,target_mask):\n",
    "        return self.decoder(memory,source_mask,self.tgt_embed(target),target_mask)"
   ]
  },
  {
   "metadata": {},
   "cell_type": "code",
   "outputs": [],
   "execution_count": null,
   "source": [
    "# 实例化参数\n",
    "vocab_size = 1000\n",
    "d_model = 512\n",
    "encoder = en\n",
    "decoder = de\n",
    "source_embed = nn.Embedding(vocab_size, d_model)\n",
    "target_embed = nn.Embedding(vocab_size, d_model)\n",
    "generator = gen"
   ],
   "id": "4369e6290cd28861"
  },
  {
   "metadata": {},
   "cell_type": "code",
   "outputs": [],
   "execution_count": null,
   "source": [
    "# 输入参数\n",
    "# 假设源数据与目标数据相同, 实际中并不相同\n",
    "source = target = Variable(torch.LongTensor([[100, 2, 421, 508], [491, 998, 1, 221]]))\n",
    "\n",
    "# 假设src_mask与tgt_mask相同，实际中并不相同\n",
    "source_mask = target_mask = Variable(torch.zeros(8, 4, 4))"
   ],
   "id": "c734008adfe54857"
  },
  {
   "metadata": {},
   "cell_type": "code",
   "outputs": [],
   "execution_count": null,
   "source": [
    "# 调用参数\n",
    "ed = EncoderDecoder(encoder, decoder, source_embed, target_embed, generator)\n",
    "ed_result = ed(source, target, source_mask, target_mask)\n",
    "print(ed_result)\n",
    "print(ed_result.shape)"
   ],
   "id": "ca13b28b6bd35c6e"
  }
 ],
 "metadata": {
  "kernelspec": {
   "display_name": "Python 3",
   "language": "python",
   "name": "python3"
  },
  "language_info": {
   "codemirror_mode": {
    "name": "ipython",
    "version": 2
   },
   "file_extension": ".py",
   "mimetype": "text/x-python",
   "name": "python",
   "nbconvert_exporter": "python",
   "pygments_lexer": "ipython2",
   "version": "2.7.6"
  }
 },
 "nbformat": 4,
 "nbformat_minor": 5
}
