{
 "cells": [
  {
   "cell_type": "code",
   "execution_count": null,
   "id": "initial_id",
   "metadata": {
    "collapsed": true
   },
   "outputs": [],
   "source": [
    "import torch.nn as nn\n",
    "import torch\n",
    "class EncoderLayer(nn.Module):\n",
    "    # size:词嵌入维度大小\n",
    "    # self_attn：多头自注意力子层实例化对象\n",
    "    # feed_forward: 前馈全连接层实例化对象\n",
    "    def __init__(self,size,self_attn,feed_forward,dropout=0.1):\n",
    "        super(EncoderLayer, self).__init__()\n",
    "        self.self_attn = self_attn\n",
    "        self.feed_forward = feed_forward\n",
    "        \n",
    "        self.sublayer = clones(SublayerConnection(size, dropout),2)\n",
    "        self.size = size\n",
    "    def forward(self,x,mask):\n",
    "        x = self.sublayer[0](x,lambda x: self.self_attn(x,x,x,mask))\n",
    "        x = self.sublayer[1](x,self.feed_forward)"
   ]
  }
 ],
 "metadata": {
  "kernelspec": {
   "display_name": "Python 3",
   "language": "python",
   "name": "python3"
  },
  "language_info": {
   "codemirror_mode": {
    "name": "ipython",
    "version": 2
   },
   "file_extension": ".py",
   "mimetype": "text/x-python",
   "name": "python",
   "nbconvert_exporter": "python",
   "pygments_lexer": "ipython2",
   "version": "2.7.6"
  }
 },
 "nbformat": 4,
 "nbformat_minor": 5
}
