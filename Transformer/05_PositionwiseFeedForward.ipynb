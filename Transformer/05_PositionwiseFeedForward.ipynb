{
 "cells": [
  {
   "cell_type": "code",
   "execution_count": null,
   "id": "initial_id",
   "metadata": {
    "collapsed": true
   },
   "outputs": [],
   "source": [
    "import torch\n",
    "import torch.nn as nn\n",
    "import torch.nn.functional as F\n",
    "class PositionwiseFeedForward(nn.Module):\n",
    "    def __init__(self,d_model,d_ff,dropout = 0,1):\n",
    "        super(PositionwiseFeedForward, self).__init__()\n",
    "        self.d_model = d_model\n",
    "        self.d_ff = d_ff\n",
    "        self.w1 = nn.Linear(d_model,d_ff)\n",
    "        self.w2 = nn.Linear(d_ff,d_model)\n",
    "        self.dropout = nn.Dropout(p = dropout)\n",
    "    def forward(self,x):\n",
    "        return self.w2(self.dropout(F.relu(self.w1(x))))"
   ]
  }
 ],
 "metadata": {
  "kernelspec": {
   "display_name": "Python 3",
   "language": "python",
   "name": "python3"
  },
  "language_info": {
   "codemirror_mode": {
    "name": "ipython",
    "version": 2
   },
   "file_extension": ".py",
   "mimetype": "text/x-python",
   "name": "python",
   "nbconvert_exporter": "python",
   "pygments_lexer": "ipython2",
   "version": "2.7.6"
  }
 },
 "nbformat": 4,
 "nbformat_minor": 5
}
