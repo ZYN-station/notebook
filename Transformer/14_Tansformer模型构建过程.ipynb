{
 "cells": [
  {
   "cell_type": "code",
   "execution_count": null,
   "id": "initial_id",
   "metadata": {
    "collapsed": true
   },
   "outputs": [],
   "source": [
    "import copy\n",
    "def make_mode(source_vocab,target_vocab,N = 6,d_model=512,d_ff=2048,head = 8,dropout = 0.1):\n",
    "    \"\"\"该函数用来构建模型, 有7个参数，分别是源数据特征(词汇)总数，目标数据特征(词汇)总数，\n",
    "       编码器和解码器堆叠数，词向量映射维度，前馈全连接网络中变换矩阵的维度，\n",
    "       多头注意力结构中的多头数，以及置零比率dropout.\"\"\"\n",
    "    c = copy.deepcopy\n",
    "    #多头注意力机制\n",
    "    attn = MultiHeadAttention(head,d_model,dropout)\n",
    "    \n",
    "    #位置编码\n",
    "    position = PositionalEncoding(d_model,dropout)\n",
    "    \n",
    "    #前馈连接层\n",
    "    ff = PositionwiseFeedForward(d_model,d_ff,dropout)\n",
    "    \n",
    "    model = EncoderDecoder(\n",
    "        Encoder(EncoderLayer(d_model,c(attn),c(ff),dropout),N),\n",
    "        Decoder(DecoderLayer(d_model,c(attn),c(attn),c(ff),dropout),N),\n",
    "        nn.Sequential(Embeddings(d_model, source_vocab), c(position)),\n",
    "        nn.Sequential(Embeddings(d_model, target_vocab), c(position)),\n",
    "        Generator(d_model,target_vocab)\n",
    "    )\n",
    "    \n",
    "     # 模型结构完成后，接下来就是初始化模型中的参数，比如线性层中的变换矩阵\n",
    "    # 这里一但判断参数的维度大于1，则会将其初始化成一个服从均匀分布的矩阵，\n",
    "    for p in model.parameters():\n",
    "        if p.dim() > 1:\n",
    "            nn.init.xavier_uniform(p)\n",
    "    return model\n",
    "    "
   ]
  }
 ],
 "metadata": {
  "kernelspec": {
   "display_name": "Python 3",
   "language": "python",
   "name": "python3"
  },
  "language_info": {
   "codemirror_mode": {
    "name": "ipython",
    "version": 2
   },
   "file_extension": ".py",
   "mimetype": "text/x-python",
   "name": "python",
   "nbconvert_exporter": "python",
   "pygments_lexer": "ipython2",
   "version": "2.7.6"
  }
 },
 "nbformat": 4,
 "nbformat_minor": 5
}
