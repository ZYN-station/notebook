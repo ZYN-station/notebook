{
 "cells": [
  {
   "metadata": {
    "ExecuteTime": {
     "end_time": "2024-11-30T19:12:14.440742Z",
     "start_time": "2024-11-30T19:12:09.169104Z"
    }
   },
   "cell_type": "code",
   "source": [
    "import matplotlib.pyplot as plt\n",
    "from PIL import Image\n",
    "import torchvision\n",
    "from torchvision import transforms\n",
    "from Classifier import Classifier\n",
    "import torch\n",
    "from PIL import Image, ImageDraw, ImageFont\n",
    "from torchvision import datasets, transforms ## 导入数据集与数据预处理的方法\n",
    "\n",
    "\n",
    "def getImageTensor(image):\n",
    "    imagel = image.convert('L')\n",
    "    # %%\n",
    "    # 将图片转换为1X28X28的tensor\n",
    "    transform = transforms.Compose([transforms.Resize((28,28)),transforms.ToTensor(),transforms.Normalize((0.5,), (0.5,))])\n",
    "    image_tensor = transform(imagel)\n",
    "    img = image_tensor.reshape((28, 28)).numpy()\n",
    "    img = torch.from_numpy(img)\n",
    "    img = img.view(1, 784)\n",
    "    plt.imshow(img)\n",
    "    # image_tensor = image_tensor.unsqueeze(0)  # 增加批次维度\n",
    "\n",
    "    # print(\"调整后图像的形状\",image_tensor.shape)\n",
    "    # %%\n",
    "    # 将图像的tensor转换为新的尺寸的灰度图像\n",
    "    # to_pil = transforms.ToPILImage()\n",
    "    # gray_image = to_pil(image_tensor.cpu().squeeze(0))\n",
    "    # print(\"调整后的灰度图像\", gray_image)\n",
    "    # gray_image.show()\n",
    "    return img\n",
    "\n"
   ],
   "id": "35bb47192012c9a",
   "outputs": [],
   "execution_count": 1
  },
  {
   "metadata": {
    "ExecuteTime": {
     "end_time": "2024-12-01T01:23:01.135093Z",
     "start_time": "2024-12-01T01:23:00.934673Z"
    }
   },
   "cell_type": "code",
   "source": [
    "import matplotlib.pyplot as plt\n",
    "%matplotlib inline\n",
    "image = Image.open('images/shoes2.jpg')\n",
    "imagel = image.convert('L')\n",
    "transform = transforms.Compose([transforms.Resize((28, 28)),  # 调整图片大小为 28x28 像素\n",
    "                                    transforms.Grayscale(),  # 转换为灰度图\n",
    "                                    transforms.ToTensor(),  # 将 PIL 图片转换为 Tensor\n",
    "                                    transforms.Normalize((0.5,), (0.5,))]) # 归一化\n",
    "image_tensor = transform(image).unsqueeze(0)\n",
    "img = image_tensor.reshape((28, 28)).numpy()\n",
    "\n",
    "# 使用 plt.imshow() 显示图像\n",
    "plt.imshow(img)  # 使用灰度颜色映射\n",
    "plt.show()"
   ],
   "id": "e435b666e4ce3b02",
   "outputs": [
    {
     "data": {
      "text/plain": [
       "<Figure size 640x480 with 1 Axes>"
      ],
      "image/png": "[encoded data removed]"
     },
     "metadata": {},
     "output_type": "display_data"
    }
   ],
   "execution_count": 48
  },
  {
   "metadata": {
    "ExecuteTime": {
     "end_time": "2024-12-01T01:23:10.356295Z",
     "start_time": "2024-12-01T01:23:10.261810Z"
    }
   },
   "cell_type": "code",
   "source": [
    "transform = transforms.Compose([transforms.ToTensor(),transforms.Normalize((0.5,), (0.5,))])\n",
    "\n",
    "# 下载Fashion-MNIST训练集数据，并构建训练集数据载入器trainloader,每次从训练集中载入64张图片，每次载入都打乱顺序\n",
    "trainset = datasets.FashionMNIST('dataset/', download=False, train=True, transform=transform)\n",
    "trainloader = torch.utils.data.DataLoader(trainset, batch_size=64, shuffle=True)\n",
    "\n",
    "# 下载Fashion-MNIST测试集数据，并构建测试集数据载入器trainloader,每次从测试集中载入64张图片，每次载入都打乱顺序\n",
    "testset = datasets.FashionMNIST('dataset/', download=False, train=False, transform=transform)\n",
    "testloader = torch.utils.data.DataLoader(testset, batch_size=64, shuffle=True)"
   ],
   "id": "7640b85059f9f7ce",
   "outputs": [],
   "execution_count": 49
  },
  {
   "metadata": {
    "ExecuteTime": {
     "end_time": "2024-12-01T01:23:11.469998Z",
     "start_time": "2024-12-01T01:23:11.303874Z"
    }
   },
   "cell_type": "code",
   "source": [
    "dataiter = iter(testloader)\n",
    "images, labels = next(dataiter)\n",
    "img = images[0]\n",
    "img = img.reshape((28,28)).numpy()\n",
    "plt.imshow(img)\n",
    "plt.show()"
   ],
   "id": "46534c1a8572ea3f",
   "outputs": [
    {
     "data": {
      "text/plain": [
       "<Figure size 640x480 with 1 Axes>"
      ],
      "image/png": "[encoded data removed]"
     },
     "metadata": {},
     "output_type": "display_data"
    }
   ],
   "execution_count": 50
  },
  {
   "metadata": {
    "ExecuteTime": {
     "end_time": "2024-11-30T20:10:00.454247Z",
     "start_time": "2024-11-30T20:10:00.442365Z"
    }
   },
   "cell_type": "code",
   "source": [
    "#加载模型\n",
    "def predict(images_tensor,predictions=[],probabilitys = []):\n",
    "    model_load = torch.load(\"model.pt\", map_location=torch.device('cuda'), weights_only=True)\n",
    "    model = Classifier()\n",
    "    model.load_state_dict(model_load)\n",
    "    model.eval()\n",
    "    for image_tensor in images_tensor:\n",
    "        with torch.no_grad():\n",
    "            output = model.forward(image_tensor)\n",
    "        ps = torch.exp(output)\n",
    "\n",
    "        top_p, top_class = ps.topk(1, dim=1)\n",
    "        labellist = ['T恤', '裤子', '套衫', '裙子', '外套', '凉鞋', '汗衫', '运动鞋', '包包', '靴子']\n",
    "        print(top_class)\n",
    "        prediction = labellist[top_class]\n",
    "        probability = float(top_p)\n",
    "        predictions.append(prediction)\n",
    "        probabilitys.append(probability)\n",
    "        print(f'神经网络猜测图片里是 {prediction}，概率为{probability * 100}%')\n",
    "    return predictions,probabilitys"
   ],
   "id": "94593f539892b785",
   "outputs": [],
   "execution_count": 29
  },
  {
   "metadata": {
    "ExecuteTime": {
     "end_time": "2024-12-01T01:23:19.536055Z",
     "start_time": "2024-12-01T01:23:17.745435Z"
    }
   },
   "cell_type": "code",
   "source": [
    "img = torch.from_numpy(img)\n",
    "img = img.view(1, 784)\n",
    "\n",
    "model_load = torch.load(\"model.pt\", map_location=torch.device('cuda'), weights_only=True)\n",
    "model = Classifier()\n",
    "model.load_state_dict(model_load)\n",
    "model.eval()\n",
    "# 进行正向推断，预测图片所在的类别\n",
    "with torch.no_grad():\n",
    "    output = model.forward(img)\n",
    "ps = torch.exp(output)\n",
    "\n",
    "top_p, top_class = ps.topk(1, dim=1)\n",
    "labellist = ['T恤','裤子','套衫','裙子','外套','凉鞋','汗衫','运动鞋','包包','靴子']\n",
    "prediction = labellist[top_class]\n",
    "probability = float(top_p)\n",
    "print(f'神经网络猜测图片里是 {prediction}，概率为{probability*100}%')"
   ],
   "id": "31feca98ecdf87b9",
   "outputs": [
    {
     "ename": "RuntimeError",
     "evalue": "Error(s) in loading state_dict for Classifier:\n\tMissing key(s) in state_dict: \"fc1.weight\", \"fc1.bias\", \"fc2.weight\", \"fc2.bias\", \"fc3.weight\", \"fc3.bias\", \"fc4.weight\", \"fc4.bias\". \n\tUnexpected key(s) in state_dict: \"conv1.0.weight\", \"conv1.0.bias\", \"conv1.1.weight\", \"conv1.1.bias\", \"conv1.1.running_mean\", \"conv1.1.running_var\", \"conv1.1.num_batches_tracked\", \"conv2.0.weight\", \"conv2.0.bias\", \"conv2.1.weight\", \"conv2.1.bias\", \"conv2.1.running_mean\", \"conv2.1.running_var\", \"conv2.1.num_batches_tracked\", \"conv3.0.weight\", \"conv3.0.bias\", \"conv3.1.weight\", \"conv3.1.bias\", \"conv3.1.running_mean\", \"conv3.1.running_var\", \"conv3.1.num_batches_tracked\", \"fc.weight\", \"fc.bias\". ",
     "output_type": "error",
     "traceback": [
      "\u001B[1;31m---------------------------------------------------------------------------\u001B[0m",
      "\u001B[1;31mRuntimeError\u001B[0m                              Traceback (most recent call last)",
      "Cell \u001B[1;32mIn[51], line 6\u001B[0m\n\u001B[0;32m      4\u001B[0m model_load \u001B[38;5;241m=\u001B[39m torch\u001B[38;5;241m.\u001B[39mload(\u001B[38;5;124m\"\u001B[39m\u001B[38;5;124mmodel.pt\u001B[39m\u001B[38;5;124m\"\u001B[39m, map_location\u001B[38;5;241m=\u001B[39mtorch\u001B[38;5;241m.\u001B[39mdevice(\u001B[38;5;124m'\u001B[39m\u001B[38;5;124mcuda\u001B[39m\u001B[38;5;124m'\u001B[39m), weights_only\u001B[38;5;241m=\u001B[39m\u001B[38;5;28;01mTrue\u001B[39;00m)\n\u001B[0;32m      5\u001B[0m model \u001B[38;5;241m=\u001B[39m Classifier()\n\u001B[1;32m----> 6\u001B[0m model\u001B[38;5;241m.\u001B[39mload_state_dict(model_load)\n\u001B[0;32m      7\u001B[0m model\u001B[38;5;241m.\u001B[39meval()\n\u001B[0;32m      8\u001B[0m \u001B[38;5;66;03m# 进行正向推断，预测图片所在的类别\u001B[39;00m\n",
      "File \u001B[1;32mD:\\Program Files\\anaconda3\\envs\\myenv\\Lib\\site-packages\\torch\\nn\\modules\\module.py:2584\u001B[0m, in \u001B[0;36mModule.load_state_dict\u001B[1;34m(self, state_dict, strict, assign)\u001B[0m\n\u001B[0;32m   2576\u001B[0m         error_msgs\u001B[38;5;241m.\u001B[39minsert(\n\u001B[0;32m   2577\u001B[0m             \u001B[38;5;241m0\u001B[39m,\n\u001B[0;32m   2578\u001B[0m             \u001B[38;5;124m\"\u001B[39m\u001B[38;5;124mMissing key(s) in state_dict: \u001B[39m\u001B[38;5;132;01m{}\u001B[39;00m\u001B[38;5;124m. \u001B[39m\u001B[38;5;124m\"\u001B[39m\u001B[38;5;241m.\u001B[39mformat(\n\u001B[0;32m   2579\u001B[0m                 \u001B[38;5;124m\"\u001B[39m\u001B[38;5;124m, \u001B[39m\u001B[38;5;124m\"\u001B[39m\u001B[38;5;241m.\u001B[39mjoin(\u001B[38;5;124mf\u001B[39m\u001B[38;5;124m'\u001B[39m\u001B[38;5;124m\"\u001B[39m\u001B[38;5;132;01m{\u001B[39;00mk\u001B[38;5;132;01m}\u001B[39;00m\u001B[38;5;124m\"\u001B[39m\u001B[38;5;124m'\u001B[39m \u001B[38;5;28;01mfor\u001B[39;00m k \u001B[38;5;129;01min\u001B[39;00m missing_keys)\n\u001B[0;32m   2580\u001B[0m             ),\n\u001B[0;32m   2581\u001B[0m         )\n\u001B[0;32m   2583\u001B[0m \u001B[38;5;28;01mif\u001B[39;00m \u001B[38;5;28mlen\u001B[39m(error_msgs) \u001B[38;5;241m>\u001B[39m \u001B[38;5;241m0\u001B[39m:\n\u001B[1;32m-> 2584\u001B[0m     \u001B[38;5;28;01mraise\u001B[39;00m \u001B[38;5;167;01mRuntimeError\u001B[39;00m(\n\u001B[0;32m   2585\u001B[0m         \u001B[38;5;124m\"\u001B[39m\u001B[38;5;124mError(s) in loading state_dict for \u001B[39m\u001B[38;5;132;01m{}\u001B[39;00m\u001B[38;5;124m:\u001B[39m\u001B[38;5;130;01m\\n\u001B[39;00m\u001B[38;5;130;01m\\t\u001B[39;00m\u001B[38;5;132;01m{}\u001B[39;00m\u001B[38;5;124m\"\u001B[39m\u001B[38;5;241m.\u001B[39mformat(\n\u001B[0;32m   2586\u001B[0m             \u001B[38;5;28mself\u001B[39m\u001B[38;5;241m.\u001B[39m\u001B[38;5;18m__class__\u001B[39m\u001B[38;5;241m.\u001B[39m\u001B[38;5;18m__name__\u001B[39m, \u001B[38;5;124m\"\u001B[39m\u001B[38;5;130;01m\\n\u001B[39;00m\u001B[38;5;130;01m\\t\u001B[39;00m\u001B[38;5;124m\"\u001B[39m\u001B[38;5;241m.\u001B[39mjoin(error_msgs)\n\u001B[0;32m   2587\u001B[0m         )\n\u001B[0;32m   2588\u001B[0m     )\n\u001B[0;32m   2589\u001B[0m \u001B[38;5;28;01mreturn\u001B[39;00m _IncompatibleKeys(missing_keys, unexpected_keys)\n",
      "\u001B[1;31mRuntimeError\u001B[0m: Error(s) in loading state_dict for Classifier:\n\tMissing key(s) in state_dict: \"fc1.weight\", \"fc1.bias\", \"fc2.weight\", \"fc2.bias\", \"fc3.weight\", \"fc3.bias\", \"fc4.weight\", \"fc4.bias\". \n\tUnexpected key(s) in state_dict: \"conv1.0.weight\", \"conv1.0.bias\", \"conv1.1.weight\", \"conv1.1.bias\", \"conv1.1.running_mean\", \"conv1.1.running_var\", \"conv1.1.num_batches_tracked\", \"conv2.0.weight\", \"conv2.0.bias\", \"conv2.1.weight\", \"conv2.1.bias\", \"conv2.1.running_mean\", \"conv2.1.running_var\", \"conv2.1.num_batches_tracked\", \"conv3.0.weight\", \"conv3.0.bias\", \"conv3.1.weight\", \"conv3.1.bias\", \"conv3.1.running_mean\", \"conv3.1.running_var\", \"conv3.1.num_batches_tracked\", \"fc.weight\", \"fc.bias\". "
     ]
    }
   ],
   "execution_count": 51
  },
  {
   "metadata": {
    "ExecuteTime": {
     "end_time": "2024-12-01T01:00:32.305712Z",
     "start_time": "2024-12-01T01:00:31.207841Z"
    }
   },
   "cell_type": "code",
   "source": [
    "def DrawImage(image,prediction,probability):\n",
    "\n",
    "    draw = ImageDraw.Draw(image)\n",
    "    position = (50, 50)  # 文字位置\n",
    "    font = ImageFont.truetype(font='arial.ttf', size=10)\n",
    "    text_color = (255, 0, 0)  # 设置文本颜色，这里设置为红色\n",
    "    text = f'The neural network guesses that the image is a {prediction} with a probability of {probability * 100}%.'  # 文字内容\n",
    "    draw.text(position, text, font=font, fill=text_color)\n",
    "    image.save('example_with_text.jpg')\n",
    "\n",
    "\n",
    "import os\n",
    "from PIL import Image\n",
    "\n",
    "# 设置文件夹路径\n",
    "folder_path = 'images'\n",
    "images_tensor = []\n",
    "\n",
    "# 遍历文件夹中的所有文件\n",
    "for filename in os.listdir(folder_path):\n",
    "    # 检查文件是否是图片（这里以.jpg和.png为例）\n",
    "    if filename.endswith(\".jpg\") or filename.endswith(\".png\"):\n",
    "        # 构建完整的文件路径\n",
    "        file_path = os.path.join(folder_path, filename)\n",
    "        # 打开图片\n",
    "        with Image.open(file_path) as img:\n",
    "            image_tensor = getImageTensor(img)\n",
    "            images_tensor.append(image_tensor)\n",
    "            # DrawImage(img,prediction,probability)\n",
    "\n",
    "predict(images_tensor)\n",
    "\n",
    "\n",
    "\n"
   ],
   "id": "d0d4bfcf9aa266c1",
   "outputs": [
    {
     "name": "stdout",
     "output_type": "stream",
     "text": [
      "tensor([[0]])\n",
      "神经网络猜测图片里是 T恤，概率为99.93866682052612%\n",
      "tensor([[4]])\n",
      "神经网络猜测图片里是 外套，概率为99.89709854125977%\n",
      "tensor([[6]])\n",
      "神经网络猜测图片里是 汗衫，概率为48.851656913757324%\n",
      "tensor([[6]])\n",
      "神经网络猜测图片里是 汗衫，概率为54.38600778579712%\n",
      "tensor([[6]])\n",
      "神经网络猜测图片里是 汗衫，概率为54.38600778579712%\n",
      "tensor([[6]])\n",
      "神经网络猜测图片里是 汗衫，概率为54.38600778579712%\n",
      "tensor([[7]])\n",
      "神经网络猜测图片里是 运动鞋，概率为100.0%\n"
     ]
    },
    {
     "data": {
      "text/plain": [
       "(['T恤', '外套', '汗衫', '汗衫', '汗衫', '汗衫', '运动鞋'],\n",
       " [0.9993866682052612,\n",
       "  0.9989709854125977,\n",
       "  0.48851656913757324,\n",
       "  0.5438600778579712,\n",
       "  0.5438600778579712,\n",
       "  0.5438600778579712,\n",
       "  1.0])"
      ]
     },
     "execution_count": 47,
     "metadata": {},
     "output_type": "execute_result"
    }
   ],
   "execution_count": 47
  },
  {
   "metadata": {},
   "cell_type": "code",
   "outputs": [],
   "execution_count": null,
   "source": "",
   "id": "ea0d0ef162694269"
  }
 ],
 "metadata": {
  "kernelspec": {
   "display_name": "pytorchLearn",
   "language": "python",
   "name": "myenv"
  },
  "language_info": {
   "codemirror_mode": {
    "name": "ipython",
    "version": 2
   },
   "file_extension": ".py",
   "mimetype": "text/x-python",
   "name": "python",
   "nbconvert_exporter": "python",
   "pygments_lexer": "ipython2",
   "version": "2.7.6"
  }
 },
 "nbformat": 4,
 "nbformat_minor": 5
}
