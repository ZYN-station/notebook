{
 "cells": [
  {
   "metadata": {},
   "cell_type": "markdown",
   "source": [
    "# Transformer模型测试任务--copy任务\n",
    "### 实现copy任务的四部曲：\n",
    "1. 构建数据集生成器\n",
    "2. 获得Transformer模型及其优化器和损失函数\n",
    "3. 运行模型进行训练和评估\n",
    "4. 使用模型进行贪婪解码\n",
    "\n",
    "> copy任务介绍：\n",
    "> - 任务描述：针对数字序列进行学习，学习的最终目标是使输出与输入序列相同。如输入[1,5,8,9,3],输出也是[1,5,8,9,3]\n",
    "> - 任务意义：copy任务在模型基础测试中具有重要意义，因为copy操作对于模型来讲是一条明显的规律，因此模型能否在短时间内，小数据集中学会它，可以帮助我们断定模型所有过程是否正常，是否已具备基本学习能力。"
   ],
   "id": "841abf1b4c95dc5d"
  },
  {
   "metadata": {
    "ExecuteTime": {
     "end_time": "2025-02-06T12:46:04.807814Z",
     "start_time": "2025-02-06T12:45:59.343583Z"
    }
   },
   "cell_type": "code",
   "source": [
    "\"\"\"构建数据集生成器\"\"\"\n",
    "from pyitcast.transformer_utils import Batch\n",
    "import torch\n",
    "import torch.nn as nn\n",
    "import numpy as np\n",
    "from torch.autograd import Variable\n",
    "\n",
    "def data_generator(V, batch_size, num_batch):\n",
    "    for i in range(num_batch):\n",
    "        data = torch.from_numpy(np.random.randint(1,V,size=(batch_size,10)))\n",
    "        # 第0位设置为1作为起始标志\n",
    "        data[:,0] = 1\n",
    "        source = Variable(data,requires_grad = False)\n",
    "        target = Variable(data,requires_grad = False)\n",
    "        \n",
    "        #使用Batch对source和target进行对应批次的掩码张量生成\n",
    "        yield Batch(source,target)"
   ],
   "id": "4713a0a25fc7ed85",
   "outputs": [],
   "execution_count": 1
  },
  {
   "metadata": {
    "ExecuteTime": {
     "end_time": "2025-02-06T12:46:04.822212Z",
     "start_time": "2025-02-06T12:46:04.810833Z"
    }
   },
   "cell_type": "code",
   "source": [
    "# 输入参数与调用\n",
    "V = 11\n",
    "batch_size = 20\n",
    "num_batch = 30\n",
    "\n",
    "if __name__ == '__main__':\n",
    "    res = data_generator(V,batch_size,num_batch)\n",
    "    print(res)"
   ],
   "id": "49e12618dd0c0597",
   "outputs": [
    {
     "name": "stdout",
     "output_type": "stream",
     "text": [
      "<generator object data_generator at 0x00000194516B0B80>\n"
     ]
    }
   ],
   "execution_count": 2
  },
  {
   "metadata": {},
   "cell_type": "markdown",
   "source": "",
   "id": "ab14422d378db7fb"
  },
  {
   "metadata": {
    "ExecuteTime": {
     "end_time": "2025-02-06T12:46:08.311818Z",
     "start_time": "2025-02-06T12:46:04.824232Z"
    }
   },
   "cell_type": "code",
   "source": [
    "# 导入优化器工具包get_std_opt, 该工具用于获得标准的针对Transformer模型的优化器 \n",
    "# 该标准优化器基于Adam优化器, 使其对序列到序列的任务更有效.\n",
    "from  TransformerModel import make_mode\n",
    "from pyitcast.transformer_utils import get_std_opt\n",
    "\n",
    "# 导入标签平滑工具包, 该工具用于标签平滑, 标签平滑的作用就是小幅度的改变原有标签值的值域\n",
    "# 因为在理论上即使是人工的标注数据也可能并非完全正确, 会受到一些外界因素的影响而产生一些微小的偏差\n",
    "# 因此使用标签平滑来弥补这种偏差, 减少模型对某一条规律的绝对认知, 以防止过拟合. 通过下面示例了解更多.\n",
    "from pyitcast.transformer_utils import LabelSmoothing\n",
    "\n",
    "# 导入损失计算工具包, 该工具能够使用标签平滑后的结果进行损失的计算, \n",
    "# 损失的计算方法可以认为是交叉熵损失函数.\n",
    "from pyitcast.transformer_utils import SimpleLossCompute\n",
    "\n",
    "# 使用make_model获得model\n",
    "model = make_mode(V,V,N=2)\n",
    "\n",
    "# 使用get_std_opt获得模型优化器\n",
    "model_optimizer = get_std_opt(model)\n",
    "\n",
    "# 使用LabelSmoothing获得标签平滑对象\n",
    "criterion = LabelSmoothing(size=V, padding_idx=0, smoothing=0.0)\n",
    "\n",
    "# 使用SimpleLossCompute获得利用标签平滑结果的损失计算方法\n",
    "loss = SimpleLossCompute(model, criterion, model_optimizer)\n"
   ],
   "id": "2155b38d6f06bea8",
   "outputs": [
    {
     "name": "stderr",
     "output_type": "stream",
     "text": [
      "D:\\Edith_ZYN\\MLResource\\Transformer\\TransformerModel.py:229: FutureWarning: `nn.init.xavier_uniform` is now deprecated in favor of `nn.init.xavier_uniform_`.\n",
      "  nn.init.xavier_uniform(p)\n",
      "D:\\Program Files\\anaconda3\\envs\\myenv\\Lib\\site-packages\\torch\\nn\\_reduction.py:51: UserWarning: size_average and reduce args will be deprecated, please use reduction='sum' instead.\n",
      "  warnings.warn(warning.format(ret))\n"
     ]
    }
   ],
   "execution_count": 3
  },
  {
   "metadata": {
    "ExecuteTime": {
     "end_time": "2025-02-06T12:49:07.115165Z",
     "start_time": "2025-02-06T12:49:06.961020Z"
    }
   },
   "cell_type": "code",
   "source": [
    "from pyitcast.transformer_utils import LabelSmoothing\n",
    "import matplotlib.pyplot as plt\n",
    "%matplotlib inline\n",
    "# 使用LabelSmoothing实例化一个crit对象.\n",
    "# 第一个参数size代表目标数据的词汇总数, 也是模型最后一层得到张量的最后一维大小\n",
    "# 这里是5说明目标词汇总数是5个. 第二个参数padding_idx表示要将那些tensor中的数字\n",
    "# 替换成0, 一般padding_idx=0表示不进行替换. 第三个参数smoothing, 表示标签的平滑程度\n",
    "# 如原来标签的表示值为1, 则平滑后它的值域变为[1-smoothing, 1+smoothing].\n",
    "crit = LabelSmoothing(size=5, padding_idx=0, smoothing=0.5)\n",
    "\n",
    "# 假定一个任意的模型最后输出预测结果和真实结果\n",
    "predict = Variable(torch.FloatTensor([[0, 0.2, 0.7, 0.1, 0],\n",
    "                             [0, 0.2, 0.7, 0.1, 0], \n",
    "                             [0, 0.2, 0.7, 0.1, 0]]))\n",
    "\n",
    "# 标签的表示值是0，1，2\n",
    "target = Variable(torch.LongTensor([2, 1, 0]))\n",
    "\n",
    "# 将predict, target传入到对象中\n",
    "crit(predict, target)\n",
    "\n",
    "# 绘制标签平滑图像\n",
    "plt.imshow(crit.true_dist)\n",
    "plt.show()"
   ],
   "id": "402e17497bb03711",
   "outputs": [
    {
     "data": {
      "text/plain": [
       "<Figure size 640x480 with 1 Axes>"
      ],
      "image/png": "[encoded data removed]"
     },
     "metadata": {},
     "output_type": "display_data"
    }
   ],
   "execution_count": 10
  },
  {
   "metadata": {
    "ExecuteTime": {
     "end_time": "2025-02-06T12:49:11.705019Z",
     "start_time": "2025-02-06T12:49:11.698333Z"
    }
   },
   "cell_type": "code",
   "source": [
    "from pyitcast.transformer_utils import run_epoch\n",
    "\n",
    "def run(model, loss, epochs=10):\n",
    "    \"\"\"模型训练函数, 共有三个参数, model代表将要进行训练的模型\n",
    "       loss代表使用的损失计算方法, epochs代表模型训练的轮数\"\"\"\n",
    "\n",
    "    # 遍历轮数\n",
    "    for epoch in range(epochs):\n",
    "        # 模型使用训练模式, 所有参数将被更新\n",
    "        model.train()\n",
    "        # 训练时, batch_size是20\n",
    "        run_epoch(data_generator(V, 8, 20), model, loss)\n",
    "\n",
    "        # 模型使用评估模式, 参数将不会变化 \n",
    "        model.eval()\n",
    "        # 评估时, batch_size是5\n",
    "        run_epoch(data_generator(V, 8, 5), model, loss)"
   ],
   "id": "dd1e0586519c721f",
   "outputs": [],
   "execution_count": 11
  },
  {
   "metadata": {
    "ExecuteTime": {
     "end_time": "2025-02-06T12:50:04.821153Z",
     "start_time": "2025-02-06T12:50:03.532495Z"
    }
   },
   "cell_type": "code",
   "source": [
    "from pyitcast.transformer_utils import greedy_decode \n",
    "\n",
    "\n",
    "def run(model, loss, epochs=10):\n",
    "    for epoch in range(epochs):\n",
    "        model.train()\n",
    "\n",
    "        run_epoch(data_generator(V, 8, 20), model, loss)\n",
    "\n",
    "        model.eval()\n",
    "\n",
    "        run_epoch(data_generator(V, 8, 5), model, loss)\n",
    "\n",
    "    # 模型进入测试模式\n",
    "    model.eval()\n",
    "\n",
    "    # 假定的输入张量\n",
    "    source = Variable(torch.LongTensor([[1,3,2,5,4,6,7,8,9,10]]))\n",
    "\n",
    "    # 定义源数据掩码张量, 因为元素都是1, 在我们这里1代表不遮掩\n",
    "    # 因此相当于对源数据没有任何遮掩.\n",
    "    source_mask = Variable(torch.ones(1, 1, 10))\n",
    "\n",
    "    # 最后将model, src, src_mask, 解码的最大长度限制max_len, 默认为10\n",
    "    # 以及起始标志数字, 默认为1, 我们这里使用的也是1\n",
    "    result = greedy_decode(model, source, source_mask, max_len=10, start_symbol=1)\n",
    "    print(result)\n",
    "\n",
    "\n",
    "if __name__ == '__main__':\n",
    "    run(model, loss)\n"
   ],
   "id": "6122e97d1f41b80e",
   "outputs": [
    {
     "ename": "RuntimeError",
     "evalue": "The size of tensor a (11) must match the size of tensor b (512) at non-singleton dimension 2",
     "output_type": "error",
     "traceback": [
      "\u001B[1;31m---------------------------------------------------------------------------\u001B[0m",
      "\u001B[1;31mRuntimeError\u001B[0m                              Traceback (most recent call last)",
      "Cell \u001B[1;32mIn[12], line 31\u001B[0m\n\u001B[0;32m     27\u001B[0m     \u001B[38;5;28mprint\u001B[39m(result)\n\u001B[0;32m     30\u001B[0m \u001B[38;5;28;01mif\u001B[39;00m \u001B[38;5;18m__name__\u001B[39m \u001B[38;5;241m==\u001B[39m \u001B[38;5;124m'\u001B[39m\u001B[38;5;124m__main__\u001B[39m\u001B[38;5;124m'\u001B[39m:\n\u001B[1;32m---> 31\u001B[0m     run(model, loss)\n",
      "Cell \u001B[1;32mIn[12], line 8\u001B[0m, in \u001B[0;36mrun\u001B[1;34m(model, loss, epochs)\u001B[0m\n\u001B[0;32m      5\u001B[0m \u001B[38;5;28;01mfor\u001B[39;00m epoch \u001B[38;5;129;01min\u001B[39;00m \u001B[38;5;28mrange\u001B[39m(epochs):\n\u001B[0;32m      6\u001B[0m     model\u001B[38;5;241m.\u001B[39mtrain()\n\u001B[1;32m----> 8\u001B[0m     run_epoch(data_generator(V, \u001B[38;5;241m8\u001B[39m, \u001B[38;5;241m20\u001B[39m), model, loss)\n\u001B[0;32m     10\u001B[0m     model\u001B[38;5;241m.\u001B[39meval()\n\u001B[0;32m     12\u001B[0m     run_epoch(data_generator(V, \u001B[38;5;241m8\u001B[39m, \u001B[38;5;241m5\u001B[39m), model, loss)\n",
      "File \u001B[1;32mD:\\Program Files\\anaconda3\\envs\\myenv\\Lib\\site-packages\\pyitcast\\transformer_utils.py:46\u001B[0m, in \u001B[0;36mrun_epoch\u001B[1;34m(data_iter, model, loss_compute)\u001B[0m\n\u001B[0;32m     44\u001B[0m tokens \u001B[38;5;241m=\u001B[39m \u001B[38;5;241m0\u001B[39m\n\u001B[0;32m     45\u001B[0m \u001B[38;5;28;01mfor\u001B[39;00m i, batch \u001B[38;5;129;01min\u001B[39;00m \u001B[38;5;28menumerate\u001B[39m(data_iter):\n\u001B[1;32m---> 46\u001B[0m     out \u001B[38;5;241m=\u001B[39m model\u001B[38;5;241m.\u001B[39mforward(batch\u001B[38;5;241m.\u001B[39msrc, batch\u001B[38;5;241m.\u001B[39mtrg, \n\u001B[0;32m     47\u001B[0m                         batch\u001B[38;5;241m.\u001B[39msrc_mask, batch\u001B[38;5;241m.\u001B[39mtrg_mask)\n\u001B[0;32m     48\u001B[0m     loss \u001B[38;5;241m=\u001B[39m loss_compute(out, batch\u001B[38;5;241m.\u001B[39mtrg_y, batch\u001B[38;5;241m.\u001B[39mntokens)\n\u001B[0;32m     49\u001B[0m     total_loss \u001B[38;5;241m+\u001B[39m\u001B[38;5;241m=\u001B[39m loss\n",
      "File \u001B[1;32mD:\\Edith_ZYN\\MLResource\\Transformer\\TransformerModel.py:196\u001B[0m, in \u001B[0;36mEncoderDecoder.forward\u001B[1;34m(self, source, target, source_mask, target_mask)\u001B[0m\n\u001B[0;32m    195\u001B[0m \u001B[38;5;28;01mdef\u001B[39;00m \u001B[38;5;21mforward\u001B[39m(\u001B[38;5;28mself\u001B[39m,source,target,source_mask,target_mask):\n\u001B[1;32m--> 196\u001B[0m     \u001B[38;5;28;01mreturn\u001B[39;00m \u001B[38;5;28mself\u001B[39m\u001B[38;5;241m.\u001B[39mdecode(\u001B[38;5;28mself\u001B[39m\u001B[38;5;241m.\u001B[39mencode(source,source_mask),source_mask,target,target_mask)\n",
      "File \u001B[1;32mD:\\Edith_ZYN\\MLResource\\Transformer\\TransformerModel.py:198\u001B[0m, in \u001B[0;36mEncoderDecoder.encode\u001B[1;34m(self, source, source_mask)\u001B[0m\n\u001B[0;32m    197\u001B[0m \u001B[38;5;28;01mdef\u001B[39;00m \u001B[38;5;21mencode\u001B[39m(\u001B[38;5;28mself\u001B[39m,source,source_mask):\n\u001B[1;32m--> 198\u001B[0m     \u001B[38;5;28;01mreturn\u001B[39;00m \u001B[38;5;28mself\u001B[39m\u001B[38;5;241m.\u001B[39mencoder(\u001B[38;5;28mself\u001B[39m\u001B[38;5;241m.\u001B[39msrc_embed(source),source_mask)\n",
      "File \u001B[1;32mD:\\Program Files\\anaconda3\\envs\\myenv\\Lib\\site-packages\\torch\\nn\\modules\\module.py:1736\u001B[0m, in \u001B[0;36mModule._wrapped_call_impl\u001B[1;34m(self, *args, **kwargs)\u001B[0m\n\u001B[0;32m   1734\u001B[0m     \u001B[38;5;28;01mreturn\u001B[39;00m \u001B[38;5;28mself\u001B[39m\u001B[38;5;241m.\u001B[39m_compiled_call_impl(\u001B[38;5;241m*\u001B[39margs, \u001B[38;5;241m*\u001B[39m\u001B[38;5;241m*\u001B[39mkwargs)  \u001B[38;5;66;03m# type: ignore[misc]\u001B[39;00m\n\u001B[0;32m   1735\u001B[0m \u001B[38;5;28;01melse\u001B[39;00m:\n\u001B[1;32m-> 1736\u001B[0m     \u001B[38;5;28;01mreturn\u001B[39;00m \u001B[38;5;28mself\u001B[39m\u001B[38;5;241m.\u001B[39m_call_impl(\u001B[38;5;241m*\u001B[39margs, \u001B[38;5;241m*\u001B[39m\u001B[38;5;241m*\u001B[39mkwargs)\n",
      "File \u001B[1;32mD:\\Program Files\\anaconda3\\envs\\myenv\\Lib\\site-packages\\torch\\nn\\modules\\module.py:1747\u001B[0m, in \u001B[0;36mModule._call_impl\u001B[1;34m(self, *args, **kwargs)\u001B[0m\n\u001B[0;32m   1742\u001B[0m \u001B[38;5;66;03m# If we don't have any hooks, we want to skip the rest of the logic in\u001B[39;00m\n\u001B[0;32m   1743\u001B[0m \u001B[38;5;66;03m# this function, and just call forward.\u001B[39;00m\n\u001B[0;32m   1744\u001B[0m \u001B[38;5;28;01mif\u001B[39;00m \u001B[38;5;129;01mnot\u001B[39;00m (\u001B[38;5;28mself\u001B[39m\u001B[38;5;241m.\u001B[39m_backward_hooks \u001B[38;5;129;01mor\u001B[39;00m \u001B[38;5;28mself\u001B[39m\u001B[38;5;241m.\u001B[39m_backward_pre_hooks \u001B[38;5;129;01mor\u001B[39;00m \u001B[38;5;28mself\u001B[39m\u001B[38;5;241m.\u001B[39m_forward_hooks \u001B[38;5;129;01mor\u001B[39;00m \u001B[38;5;28mself\u001B[39m\u001B[38;5;241m.\u001B[39m_forward_pre_hooks\n\u001B[0;32m   1745\u001B[0m         \u001B[38;5;129;01mor\u001B[39;00m _global_backward_pre_hooks \u001B[38;5;129;01mor\u001B[39;00m _global_backward_hooks\n\u001B[0;32m   1746\u001B[0m         \u001B[38;5;129;01mor\u001B[39;00m _global_forward_hooks \u001B[38;5;129;01mor\u001B[39;00m _global_forward_pre_hooks):\n\u001B[1;32m-> 1747\u001B[0m     \u001B[38;5;28;01mreturn\u001B[39;00m forward_call(\u001B[38;5;241m*\u001B[39margs, \u001B[38;5;241m*\u001B[39m\u001B[38;5;241m*\u001B[39mkwargs)\n\u001B[0;32m   1749\u001B[0m result \u001B[38;5;241m=\u001B[39m \u001B[38;5;28;01mNone\u001B[39;00m\n\u001B[0;32m   1750\u001B[0m called_always_called_hooks \u001B[38;5;241m=\u001B[39m \u001B[38;5;28mset\u001B[39m()\n",
      "File \u001B[1;32mD:\\Program Files\\anaconda3\\envs\\myenv\\Lib\\site-packages\\torch\\nn\\modules\\container.py:250\u001B[0m, in \u001B[0;36mSequential.forward\u001B[1;34m(self, input)\u001B[0m\n\u001B[0;32m    248\u001B[0m \u001B[38;5;28;01mdef\u001B[39;00m \u001B[38;5;21mforward\u001B[39m(\u001B[38;5;28mself\u001B[39m, \u001B[38;5;28minput\u001B[39m):\n\u001B[0;32m    249\u001B[0m     \u001B[38;5;28;01mfor\u001B[39;00m module \u001B[38;5;129;01min\u001B[39;00m \u001B[38;5;28mself\u001B[39m:\n\u001B[1;32m--> 250\u001B[0m         \u001B[38;5;28minput\u001B[39m \u001B[38;5;241m=\u001B[39m module(\u001B[38;5;28minput\u001B[39m)\n\u001B[0;32m    251\u001B[0m     \u001B[38;5;28;01mreturn\u001B[39;00m \u001B[38;5;28minput\u001B[39m\n",
      "File \u001B[1;32mD:\\Program Files\\anaconda3\\envs\\myenv\\Lib\\site-packages\\torch\\nn\\modules\\module.py:1736\u001B[0m, in \u001B[0;36mModule._wrapped_call_impl\u001B[1;34m(self, *args, **kwargs)\u001B[0m\n\u001B[0;32m   1734\u001B[0m     \u001B[38;5;28;01mreturn\u001B[39;00m \u001B[38;5;28mself\u001B[39m\u001B[38;5;241m.\u001B[39m_compiled_call_impl(\u001B[38;5;241m*\u001B[39margs, \u001B[38;5;241m*\u001B[39m\u001B[38;5;241m*\u001B[39mkwargs)  \u001B[38;5;66;03m# type: ignore[misc]\u001B[39;00m\n\u001B[0;32m   1735\u001B[0m \u001B[38;5;28;01melse\u001B[39;00m:\n\u001B[1;32m-> 1736\u001B[0m     \u001B[38;5;28;01mreturn\u001B[39;00m \u001B[38;5;28mself\u001B[39m\u001B[38;5;241m.\u001B[39m_call_impl(\u001B[38;5;241m*\u001B[39margs, \u001B[38;5;241m*\u001B[39m\u001B[38;5;241m*\u001B[39mkwargs)\n",
      "File \u001B[1;32mD:\\Program Files\\anaconda3\\envs\\myenv\\Lib\\site-packages\\torch\\nn\\modules\\module.py:1747\u001B[0m, in \u001B[0;36mModule._call_impl\u001B[1;34m(self, *args, **kwargs)\u001B[0m\n\u001B[0;32m   1742\u001B[0m \u001B[38;5;66;03m# If we don't have any hooks, we want to skip the rest of the logic in\u001B[39;00m\n\u001B[0;32m   1743\u001B[0m \u001B[38;5;66;03m# this function, and just call forward.\u001B[39;00m\n\u001B[0;32m   1744\u001B[0m \u001B[38;5;28;01mif\u001B[39;00m \u001B[38;5;129;01mnot\u001B[39;00m (\u001B[38;5;28mself\u001B[39m\u001B[38;5;241m.\u001B[39m_backward_hooks \u001B[38;5;129;01mor\u001B[39;00m \u001B[38;5;28mself\u001B[39m\u001B[38;5;241m.\u001B[39m_backward_pre_hooks \u001B[38;5;129;01mor\u001B[39;00m \u001B[38;5;28mself\u001B[39m\u001B[38;5;241m.\u001B[39m_forward_hooks \u001B[38;5;129;01mor\u001B[39;00m \u001B[38;5;28mself\u001B[39m\u001B[38;5;241m.\u001B[39m_forward_pre_hooks\n\u001B[0;32m   1745\u001B[0m         \u001B[38;5;129;01mor\u001B[39;00m _global_backward_pre_hooks \u001B[38;5;129;01mor\u001B[39;00m _global_backward_hooks\n\u001B[0;32m   1746\u001B[0m         \u001B[38;5;129;01mor\u001B[39;00m _global_forward_hooks \u001B[38;5;129;01mor\u001B[39;00m _global_forward_pre_hooks):\n\u001B[1;32m-> 1747\u001B[0m     \u001B[38;5;28;01mreturn\u001B[39;00m forward_call(\u001B[38;5;241m*\u001B[39margs, \u001B[38;5;241m*\u001B[39m\u001B[38;5;241m*\u001B[39mkwargs)\n\u001B[0;32m   1749\u001B[0m result \u001B[38;5;241m=\u001B[39m \u001B[38;5;28;01mNone\u001B[39;00m\n\u001B[0;32m   1750\u001B[0m called_always_called_hooks \u001B[38;5;241m=\u001B[39m \u001B[38;5;28mset\u001B[39m()\n",
      "File \u001B[1;32mD:\\Edith_ZYN\\MLResource\\Transformer\\TransformerModel.py:31\u001B[0m, in \u001B[0;36mPositionEncoding.forward\u001B[1;34m(self, x)\u001B[0m\n\u001B[0;32m     30\u001B[0m \u001B[38;5;28;01mdef\u001B[39;00m \u001B[38;5;21mforward\u001B[39m(\u001B[38;5;28mself\u001B[39m,x):\n\u001B[1;32m---> 31\u001B[0m     \u001B[38;5;28;01mreturn\u001B[39;00m \u001B[38;5;28mself\u001B[39m\u001B[38;5;241m.\u001B[39mdropout(x\u001B[38;5;241m+\u001B[39mVariable(\u001B[38;5;28mself\u001B[39m\u001B[38;5;241m.\u001B[39mpe[:,x\u001B[38;5;241m.\u001B[39msize(\u001B[38;5;241m1\u001B[39m)],requires_grad \u001B[38;5;241m=\u001B[39m \u001B[38;5;28;01mFalse\u001B[39;00m))\n",
      "\u001B[1;31mRuntimeError\u001B[0m: The size of tensor a (11) must match the size of tensor b (512) at non-singleton dimension 2"
     ]
    }
   ],
   "execution_count": 12
  },
  {
   "metadata": {},
   "cell_type": "code",
   "outputs": [],
   "execution_count": null,
   "source": "",
   "id": "b6efebf9a9cd987c"
  }
 ],
 "metadata": {
  "kernelspec": {
   "display_name": "Python 3",
   "language": "python",
   "name": "python3"
  },
  "language_info": {
   "codemirror_mode": {
    "name": "ipython",
    "version": 2
   },
   "file_extension": ".py",
   "mimetype": "text/x-python",
   "name": "python",
   "nbconvert_exporter": "python",
   "pygments_lexer": "ipython2",
   "version": "2.7.6"
  }
 },
 "nbformat": 4,
 "nbformat_minor": 5
}
