{
 "cells": [
  {
   "cell_type": "code",
   "execution_count": null,
   "id": "initial_id",
   "metadata": {
    "collapsed": true
   },
   "outputs": [],
   "source": [
    "import torch\n",
    "import torch.nn as nn\n",
    "import torch.nn.functional as F\n",
    "\n",
    "class DecoderLayer(nn.Module):\n",
    "    \"\"\"\n",
    "    size:词维度大小\n",
    "    src_attn:多头注意力机制\n",
    "    self_attn:多头自注意力机制\n",
    "    feed_forward:前馈连接层\n",
    "    \"\"\"\n",
    "    def __init__(self,size,src_attn,self_attn,feed_forward,dropout = 0.1):\n",
    "        self.src_attn = src_attn\n",
    "        self.self_attn = self_attn\n",
    "        self.feed_forward = feed_forward\n",
    "        self.size = size\n",
    "        self.sublayers = clones(SublayerConnection(size,dropout),3)\n",
    "    def forward(self,x,memory,source_mask,target_mask):\n",
    "        #编码器的输出\n",
    "        m = memory\n",
    "        x = self.sublayers[0](x,lambda x:self.self_attn(x,x,x,source_mask))\n",
    "        x = self.sublayers[1](x,lambda x:self.self_attn(x,m,m,target_mask))\n",
    "        return self.sublayers[2](x,self.feed_forward)\n",
    "        "
   ]
  }
 ],
 "metadata": {
  "kernelspec": {
   "display_name": "Python 3",
   "language": "python",
   "name": "python3"
  },
  "language_info": {
   "codemirror_mode": {
    "name": "ipython",
    "version": 2
   },
   "file_extension": ".py",
   "mimetype": "text/x-python",
   "name": "python",
   "nbconvert_exporter": "python",
   "pygments_lexer": "ipython2",
   "version": "2.7.6"
  }
 },
 "nbformat": 4,
 "nbformat_minor": 5
}
