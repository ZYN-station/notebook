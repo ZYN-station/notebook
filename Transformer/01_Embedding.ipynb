{
 "cells": [
  {
   "cell_type": "code",
   "id": "initial_id",
   "metadata": {
    "collapsed": true,
    "ExecuteTime": {
     "end_time": "2025-02-05T06:27:23.598389Z",
     "start_time": "2025-02-05T06:27:17.672335Z"
    }
   },
   "source": [
    "import torch\n",
    "import torch.nn as nn\n",
    "import torch.nn.functional as F\n",
    "import math\n",
    "class Embedddings(nn.Module):\n",
    "    def __init__(self,d_model,vocab):\n",
    "        super(Embedddings,self).__init__()\n",
    "        self.d_model=d_model\n",
    "        self.vocab = vocab\n",
    "        self.lut=nn.Embedding(vocab,d_model)\n",
    "    def forward(self,x):\n",
    "        return self.lut(x)*math.sqrt(self.d_model)"
   ],
   "outputs": [],
   "execution_count": 1
  },
  {
   "metadata": {
    "ExecuteTime": {
     "end_time": "2025-02-05T06:29:22.829316Z",
     "start_time": "2025-02-05T06:29:22.804756Z"
    }
   },
   "cell_type": "code",
   "source": [
    "\"\"\"实例化参数\"\"\"\n",
    "# 词嵌入维度是512维\n",
    "d_model = 512\n",
    "\n",
    "# 词表大小是1000\n",
    "vocab = 1000\n",
    "\n",
    "#输入参数\n",
    "x = torch.LongTensor([[100,2,421,508],[491,998,1,221]])"
   ],
   "id": "fcfd3ca6db11734e",
   "outputs": [],
   "execution_count": 3
  },
  {
   "metadata": {
    "ExecuteTime": {
     "end_time": "2025-02-05T06:30:34.680783Z",
     "start_time": "2025-02-05T06:30:34.563539Z"
    }
   },
   "cell_type": "code",
   "source": [
    "\"\"\"调用参数\"\"\"\n",
    "#实例化Embeddings对象\n",
    "emb = Embedddings(d_model,vocab)\n",
    "embr = emb(x)\n",
    "print(embr)"
   ],
   "id": "d337aafb27be4740",
   "outputs": [
    {
     "name": "stdout",
     "output_type": "stream",
     "text": [
      "tensor([[[ 17.8511, -17.8561, -19.2010,  ...,  16.3245,  -8.1210, -22.8854],\n",
      "         [  4.3722,   9.2174,  40.4369,  ..., -10.0187,  31.0938,   2.1283],\n",
      "         [ 41.3360,  -9.3592,  51.6429,  ...,  -7.6534,  31.5696, -28.8942],\n",
      "         [-14.4380, -15.3235,   5.7992,  ..., -42.8105,   0.9077,  25.9767]],\n",
      "\n",
      "        [[-18.6200,  -9.5991,   8.9409,  ...,   9.3944,  -4.5474,  29.9284],\n",
      "         [ -7.1672,  13.8624, -22.4910,  ...,  19.2077, -12.1756,  41.1713],\n",
      "         [-31.2162,  10.7537, -10.2274,  ...,   2.8935,  21.2207,   5.1859],\n",
      "         [ 65.8625, -19.8887, -13.6263,  ..., -14.8359,  19.9553, -42.8124]]],\n",
      "       grad_fn=<MulBackward0>)\n"
     ]
    }
   ],
   "execution_count": 4
  }
 ],
 "metadata": {
  "kernelspec": {
   "display_name": "Python 3",
   "language": "python",
   "name": "python3"
  },
  "language_info": {
   "codemirror_mode": {
    "name": "ipython",
    "version": 2
   },
   "file_extension": ".py",
   "mimetype": "text/x-python",
   "name": "python",
   "nbconvert_exporter": "python",
   "pygments_lexer": "ipython2",
   "version": "2.7.6"
  }
 },
 "nbformat": 4,
 "nbformat_minor": 5
}
